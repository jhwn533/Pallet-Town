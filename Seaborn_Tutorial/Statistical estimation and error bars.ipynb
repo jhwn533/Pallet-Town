{
 "cells": [
  {
   "cell_type": "code",
   "execution_count": 13,
   "id": "3beb4ca6",
   "metadata": {},
   "outputs": [],
   "source": [
    "import pandas as pd\n",
    "import numpy as np\n",
    "import seaborn as sns\n",
    "import matplotlib.pyplot as plt\n",
    "\n",
    "sns.set_theme()"
   ]
  },
  {
   "cell_type": "markdown",
   "id": "7c2d184d",
   "metadata": {},
   "source": [
    "# Statistical operations"
   ]
  },
  {
   "cell_type": "markdown",
   "id": "d3a51096",
   "metadata": {},
   "source": [
    "## Statistical estimation and error bars\n",
    "데이터 시각화에는 여러 데이터 요소를 평균 또는 중앙값과 같은 요약 통계로 축소하는 집계 또는 추정 단계가 포함되는 경우가 있습니다.  \n",
    "요약 통계를 표시할 때는 일반적으로 오차 막대를 추가하여 요약이 기초 데이터 요소를 얼마나 잘 나타내는지에 대한 시각적 단서를 제공하는 것이 적절합니다.  \n",
    "\n",
    "전체 데이터 집합이 주어지면 여러 가지 seaborn 함수가 요약 통계와 오차 막대를 자동으로 계산합니다.  \n",
    "이 장에서는 오차 막대 제어법과 seaborn이 제공하는 각 옵션을 선택하는 이유에 대해 설명합니다. \n",
    "\n",
    "중심 경향 추정치 주변의 오차 막대는 추정치에 대한 불확실성의 범위 또는 추정치 주변의 기초 데이터의 확산이라는 두 가지 일반적인 사항 중 하나를 나타낼 수 있습니다. 이 두 측정값은 서로 관련이 있습니다.  \n",
    "동일한 표본 크기가 주어지면 데이터의 확산이 더 넓을 때 추정치의 불확실성이 더 커집니다. 그러나 표본 크기가 커질수록 불확실성은 감소하는 반면, 확산은 감소하지 않습니다.\n",
    "\n",
    "시본에서는 각 종류의 오차 막대를 구성하는 데 두 가지 접근 방식이 있습니다.  \n",
    "1. 분포의 모양에 대한 가정에 의존하는 공식을 사용하는 모수적 방식\n",
    "2. 사용자가 제공한 데이터만 사용하는 비모수적 방식\n",
    "\n",
    "플롯의 일부로 추정을 수행하는 각 함수에 대해 존재하는 오차 막대 매개변수를 사용하여 선택할 수 있습니다.  \n",
    "이 매개변수에는 사용할 메서드의 이름과 선택적으로 간격의 크기를 제어하는 매개변수를 사용할 수 있습니다.  \n",
    "선택 사항은 표시되는 항목과 구성 방법에 따라 2D 분류체계로 정의할 수 있습니다:\n",
    "\n",
    "spread - parametric : standard deviation `errorbar = ('sd', scale)`  \n",
    "spread - non-parametric : Percentile interval `errorbar = ('pi', scale)`  \n",
    "Uncertainty - parametric : Standard error `errorbar = ('se', scale)`  \n",
    "Uncertainty - non-parametric : Confidence interval `errorbar = ('ci', scale)`  \n",
    "\n",
    "크기 매개변수는 파라메트릭 접근 방식과 비파라메트릭 접근 방식에 따라 다르게 정의된다는 것을 알 수 있습니다.  \n",
    "모수적 오차 막대 : 오차를 정의하는 통계(표준 오차 또는 표준 편차)를 곱한 스칼라 계수  \n",
    "비모수적 오차 막대 : 백분위수 너비\n",
    "아래에서 각 특정 접근 방식에 대해 자세히 설명합니다.\n",
    "\n",
    "서로 다른 매개변수화를 비교하기 위해 다음 헬퍼 함수를 사용하겠습니다:  "
   ]
  },
  {
   "cell_type": "code",
   "execution_count": 14,
   "id": "45e5429e",
   "metadata": {},
   "outputs": [],
   "source": [
    "def plot_errorbars(arg, **kws):\n",
    "    np.random.seed(sum(map(ord, \"error_bars\")))\n",
    "    x = np.random.normal(0, 1, 100)\n",
    "    f, axs = plt.subplots(2, figsize=(7, 2), sharex=True, layout=\"tight\")\n",
    "    sns.pointplot(x=x, errorbar=arg, **kws, capsize=.3, ax=axs[0])\n",
    "    sns.stripplot(x=x, jitter=.3, ax=axs[1])"
   ]
  },
  {
   "cell_type": "markdown",
   "id": "1504b036",
   "metadata": {},
   "source": [
    "## Measures of data spread\n",
    "데이터 분포를 나타내는 오차 막대는 세 개의 숫자를 사용하여 분포를 간결하게 표시합니다.  \n",
    "(boxplot(): 5개 이상의 숫자 사용, violinplot(): 복잡한 알고리즘 사용)  \n",
    "\n",
    "**Standard deviation error bars**  \n",
    "표준 편차는 익숙한 통계이므로 표준 편차 오차 막대가 가장 간단하게 설명할 수 있습니다.  \n",
    "표준편차는 각 데이터 포인트에서 표본 평균까지의 평균 거리입니다.  \n",
    "기본적으로 errorbar=\"sd\"는 추정치 주위에 +/- 1σ의 오차 막대를 그리지만 스케일링 크기 매개변수를 전달하여 범위를 늘릴 수 있습니다.  \n",
    "정규 분포 데이터라고 가정하면 데이터의 ~68%는 1표준편차 내에, ~95%는 2표준편차 내에, ~99.7%는 3표준편차 내에 놓이게 됩니다:"
   ]
  },
  {
   "cell_type": "code",
   "execution_count": 15,
   "id": "7e008e9e",
   "metadata": {},
   "outputs": [
    {
     "data": {
      "image/png": "[encoded data removed]",
      "text/plain": [
       "<Figure size 700x200 with 2 Axes>"
      ]
     },
     "metadata": {},
     "output_type": "display_data"
    }
   ],
   "source": [
    "plot_errorbars(\"sd\")"
   ]
  },
  {
   "cell_type": "markdown",
   "id": "f852f9fb",
   "metadata": {},
   "source": [
    "**Percentile interval error bars**\n",
    "백분위수 구간은 데이터의 일부가 속하는 범위도 나타내지만, 샘플에서 직접 백분위수를 계산하여 표시합니다.  \n",
    "기본적으로 errorbar=\"pi\"는 2.5 백분위수에서 97.5 백분위수까지 95%의 구간을 표시합니다.  \n",
    "예를 들어 사 분위수 간 범위를 표시하려면 크기 매개 변수를 전달하여 다른 범위를 선택할 수 있습니다:"
   ]
  },
  {
   "cell_type": "code",
   "execution_count": 12,
   "id": "2cc058e5",
   "metadata": {},
   "outputs": [
    {
     "data": {
      "image/png": "[encoded data removed]",
      "text/plain": [
       "<Figure size 700x200 with 2 Axes>"
      ]
     },
     "metadata": {},
     "output_type": "display_data"
    }
   ],
   "source": [
    "# scale 파라미터 없음\n",
    "plot_errorbars(\"pi\")"
   ]
  },
  {
   "cell_type": "code",
   "execution_count": 11,
   "id": "7c5fa528",
   "metadata": {
    "scrolled": true
   },
   "outputs": [
    {
     "data": {
      "image/png": "[encoded data removed]",
      "text/plain": [
       "<Figure size 700x200 with 2 Axes>"
      ]
     },
     "metadata": {},
     "output_type": "display_data"
    }
   ],
   "source": [
    "# scale 파라미터 입력\n",
    "plot_errorbars((\"pi\", 50))"
   ]
  },
  {
   "cell_type": "markdown",
   "id": "0f2e7bd2",
   "metadata": {},
   "source": [
    "표준 편차 오차 막대는 항상 추정치를 중심으로 대칭을 이룹니다.  \n",
    "이는 데이터가 왜곡된 경우, 특히 자연적인 한계가 있는 경우(예: 데이터가 양수만 가능한 수량을 나타내는 경우) 문제가 될 수 있습니다.  \n",
    "경우에 따라 표준편차 오차 막대가 \"불가능한\" 값까지 확장될 수 있습니다.  \n",
    "비모수적 접근 방식은 비대칭적 확산을 설명할 수 있고 데이터 범위를 벗어나지 않기 때문에 이러한 문제가 없습니다."
   ]
  }
 ],
 "metadata": {
  "kernelspec": {
   "display_name": "Python 3 (ipykernel)",
   "language": "python",
   "name": "python3"
  },
  "language_info": {
   "codemirror_mode": {
    "name": "ipython",
    "version": 3
   },
   "file_extension": ".py",
   "mimetype": "text/x-python",
   "name": "python",
   "nbconvert_exporter": "python",
   "pygments_lexer": "ipython3",
   "version": "3.9.13"
  },
  "toc": {
   "base_numbering": 1,
   "nav_menu": {},
   "number_sections": true,
   "sideBar": true,
   "skip_h1_title": false,
   "title_cell": "Table of Contents",
   "title_sidebar": "Contents",
   "toc_cell": false,
   "toc_position": {},
   "toc_section_display": true,
   "toc_window_display": false
  }
 },
 "nbformat": 4,
 "nbformat_minor": 5
}
