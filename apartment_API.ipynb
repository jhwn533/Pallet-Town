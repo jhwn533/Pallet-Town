{
 "cells": [
  {
   "cell_type": "markdown",
   "id": "b0323465",
   "metadata": {},
   "source": [
    "# API를 활용하여 아파트매매 실거래 데이터 가져오기"
   ]
  },
  {
   "cell_type": "markdown",
   "id": "56739ad5",
   "metadata": {},
   "source": [
    "# 📌기초 - 데이터 수집"
   ]
  },
  {
   "cell_type": "markdown",
   "id": "9dba083b",
   "metadata": {},
   "source": [
    "### 라이브러리 불러오기"
   ]
  },
  {
   "cell_type": "code",
   "execution_count": 1,
   "id": "6a5eda4c",
   "metadata": {},
   "outputs": [],
   "source": [
    "from xml.etree import ElementTree as ET\n",
    "from bs4 import BeautifulSoup as bs\n",
    "import pandas as pd\n",
    "import requests\n",
    "from time import strftime\n",
    "# import numpy as np\n",
    "# import urllib"
   ]
  },
  {
   "cell_type": "markdown",
   "id": "964c515a",
   "metadata": {},
   "source": [
    "## 활용 데이터"
   ]
  },
  {
   "cell_type": "markdown",
   "id": "e3b48905",
   "metadata": {},
   "source": [
    "공공데이터포털 > 국토교통부_아파트매매 실거래 상세 자료 <br>\n",
    "https://www.data.go.kr/data/15057511/openapi.do"
   ]
  },
  {
   "cell_type": "markdown",
   "id": "7d66bad3",
   "metadata": {},
   "source": [
    "### 요청변수(Request Parameter)"
   ]
  },
  {
   "cell_type": "code",
   "execution_count": null,
   "id": "b797e9fe",
   "metadata": {},
   "outputs": [],
   "source": [
    "info_url = 'https://www.data.go.kr/data/15057511/openapi.do'\n",
    "\n",
    "table = pd.read_html(info_url)\n",
    "request_parameter = table[4]\n",
    "request_parameter"
   ]
  },
  {
   "cell_type": "markdown",
   "id": "e7fa8738",
   "metadata": {},
   "source": [
    "### 출력결과(Response Element)"
   ]
  },
  {
   "cell_type": "code",
   "execution_count": null,
   "id": "a5259e11",
   "metadata": {},
   "outputs": [],
   "source": [
    "response_element = table[5]\n",
    "response_element"
   ]
  },
  {
   "cell_type": "markdown",
   "id": "165c2d1d",
   "metadata": {},
   "source": [
    "### (참고) 샘플 코드"
   ]
  },
  {
   "cell_type": "code",
   "execution_count": null,
   "id": "1990ad56",
   "metadata": {},
   "outputs": [],
   "source": [
    "import requests\n",
    "\n",
    "url = 'http://openapi.molit.go.kr/OpenAPI_ToolInstallPackage/service/rest/RTMSOBJSvc/getRTMSDataSvcAptTradeDev'\n",
    "key = ' - - api key 입력 - - '\n",
    "params ={'serviceKey' : key, 'pageNo' : '1', 'numOfRows' : '10', 'LAWD_CD' : '11110', 'DEAL_YMD' : '202301' }\n",
    "\n",
    "response = requests.get(url, params=params)\n",
    "print(response.content)"
   ]
  },
  {
   "cell_type": "markdown",
   "id": "51c18fdf",
   "metadata": {},
   "source": [
    "## 코드 리뷰"
   ]
  },
  {
   "cell_type": "markdown",
   "id": "41cf48e8",
   "metadata": {},
   "source": [
    "### 쿼리 값 세팅"
   ]
  },
  {
   "cell_type": "code",
   "execution_count": 17,
   "id": "c437b915",
   "metadata": {},
   "outputs": [],
   "source": [
    "key =  ' - - decoding key 입력 - - '\n",
    "LAWD_CD = '11200' # 성동구 지역코드\n",
    "DEAL_YMD = '202301'\n",
    "\n",
    "# f-string 방식\n",
    "query = f'?serviceKey={key}&pageNo=1&numOfRows=99999&LAWD_CD={LAWD_CD}&DEAL_YMD={DEAL_YMD}'"
   ]
  },
  {
   "cell_type": "code",
   "execution_count": 18,
   "id": "d988248d",
   "metadata": {},
   "outputs": [],
   "source": [
    "# dictionary 방식\n",
    "params ={'serviceKey' : key, 'numOfRows' : '99999', 'LAWD_CD' : LAWD_CD , 'DEAL_YMD' : DEAL_YMD}"
   ]
  },
  {
   "cell_type": "markdown",
   "id": "0d4d1a41",
   "metadata": {},
   "source": [
    "### url 세팅"
   ]
  },
  {
   "cell_type": "code",
   "execution_count": 19,
   "id": "a22d1adc",
   "metadata": {},
   "outputs": [],
   "source": [
    "url = 'http://openapi.molit.go.kr/OpenAPI_ToolInstallPackage/service/rest/RTMSOBJSvc/getRTMSDataSvcAptTradeDev'\n",
    "rq_url = url + query"
   ]
  },
  {
   "cell_type": "markdown",
   "id": "41d08308",
   "metadata": {},
   "source": [
    "### GET OK 200 확인"
   ]
  },
  {
   "cell_type": "code",
   "execution_count": 20,
   "id": "8114703c",
   "metadata": {},
   "outputs": [
    {
     "data": {
      "text/plain": [
       "<Response [200]>"
      ]
     },
     "execution_count": 20,
     "metadata": {},
     "output_type": "execute_result"
    }
   ],
   "source": [
    "# f-string\n",
    "# response = requests.get(rq_url)\n",
    "\n",
    "# dictionary\n",
    "response = requests.get(url, params=params)\n",
    "\n",
    "response"
   ]
  },
  {
   "cell_type": "markdown",
   "id": "4122ce17",
   "metadata": {},
   "source": [
    "### 데이터 수집\n",
    "<b><방식><br>\n",
    "- 파싱 된 결과를 가져온다. = result <br>\n",
    "- 가져와야하는 문서의 태그 형태는 \\<items>안에 \\<item>으로 개별 거래내역이 들어 있고, 그 안에 컬럼명이 태그로 들어가 있다. <br>\n",
    "    ```ex. <item><거래금액>   155,000</거래금액><거래유형>중개거래</거래유형><건축년도>2016</건축년도> … <해제여부> </해제여부></item> ```\n",
    "\n",
    "<b><컬럼명 수집><br>\n",
    "- 임의로 한 개의 item을 .find_all() 메서드로 태그와 내용을 모두 가져온 뒤 .name 메서드로 태그명을 모두 가져온다.\n",
    "\n",
    "<b><내용 수집><br>\n",
    "- 내용은 결과.태그명.text 또는 결과.태그명.string 으로 태그 내 텍스트를 가져온다. <br>\n",
    "- 위 코드에 for문으로 컬럼명을 순차적으로 반복시켜주면 모든 내용을 가져올 수 있다.\n",
    "    \n",
    "<b><수집 데이터 정리><br>\n",
    "- 위 방법으로 수집하면, 개별 거래내역별로 묶이는게 아니라 전체 거래내역이 컬럼순으로 데이터가 한데 묶이는 문제가 생긴다.\n",
    "- 내용이 없는 부분(ex. 해제여부)도 태그는 있기 때문에, 누락된 칸이 없다. (아마도)\n",
    "- 그래서 range의 step 속성으로 수집된 거래내역 숫자만큼씩 데이터를 뛰어넘어서 묶어주는 방식으로 정리했다.\n",
    "- 비효율적이고 혹시나 누락데이터가 있을 땐 다 망가지는 방법이고, 태그명을 따라 내용을 따로 저장해주는게 가장 좋을 것 같은데 아는 범위내에서는 아직 이렇게 밖에 해결을 못했다😓"
   ]
  },
  {
   "cell_type": "markdown",
   "id": "3951c994",
   "metadata": {},
   "source": [
    "### 컬럼 매핑"
   ]
  },
  {
   "cell_type": "code",
   "execution_count": 26,
   "id": "aca1f439",
   "metadata": {},
   "outputs": [
    {
     "name": "stdout",
     "output_type": "stream",
     "text": [
      "['거래금액', '거래유형', '건축년도', '년', '도로명', '도로명건물본번호코드', '도로명건물부번호코드', '도로명시군구코드', '도로명일련번호코드', '도로명코드', '법정동', '법정동본번코드', '법정동부번코드', '법정동시군구코드', '법정동읍면동코드', '법정동지번코드', '아파트', '월', '일', '일련번호', '전용면적', '중개사소재지', '지번', '지역코드', '층', '해제사유발생일', '해제여부']\n"
     ]
    }
   ],
   "source": [
    "# 방법 1\n",
    "result = bs(response.text, features='xml')\n",
    "items = result.findAll('item')\n",
    "\n",
    "# # 방법 2 : soup의 내용은 response.text 결과와 같지만 타입이 다르다.\n",
    "# soup = bs(response.content, 'lxml-xml')\n",
    "# items = soup.findAll('item')\n",
    "\n",
    "# 컬럼명 찾기\n",
    "columns = items[0].find_all()\n",
    "columns[0].name\n",
    "\n",
    "cols = []\n",
    "\n",
    "for i in range(0, len(columns)):\n",
    "    cols.append(columns[i].name)\n",
    "\n",
    "print(cols)"
   ]
  },
  {
   "cell_type": "markdown",
   "id": "0015a6d6",
   "metadata": {},
   "source": [
    ".name 메서드는 BeautifulSoup 메서드 <br>\n",
    "관련 내용은 BS4 공식 문서의 <.contents and .children > 부분 참고 <br>\n",
    "https://www.crummy.com/software/BeautifulSoup/bs4/doc/#contents-and-children"
   ]
  },
  {
   "cell_type": "markdown",
   "id": "679b0b40",
   "metadata": {},
   "source": [
    "### 내용 가져오기"
   ]
  },
  {
   "cell_type": "code",
   "execution_count": 27,
   "id": "5f89061b",
   "metadata": {
    "collapsed": true
   },
   "outputs": [
    {
     "name": "stdout",
     "output_type": "stream",
     "text": [
      "['155,000', '83,000', '129,000', '186,000', '133,000', '124,000', '101,000', '중개거래', '중개거래', '중개거래', '중개거래', '중개거래', '중개거래', '중개거래', '2016', '2000', '2003', '2007', '2012', '2016', '1990', '2023', '2023', '2023', '2023', '2023', '2023', '2023', '왕십리로', '행당로', '고산자로', '금호로', '매봉길', '매봉길', '서울숲길', '00410', '00079', '00164', '00015', '00015', '00050', '00025', '00000', '00000', '00000', '00000', '00000', '00000', '00000', '11200', '11200', '11200', '11200', '11200', '11200', '11200', '00', '01', '04', '03', '02', '00', '01', '3005011', '3103006', '3005030', '3103001', '4109229', '4109229', '4109323', '하왕십리동', '행당동', '행당동', '금호동4가', '옥수동', '옥수동', '성수동1가', '1070', '0347', '0349', '0340', '0561', '0528', '0676', '0000', '0000', '0000', '0000', '0000', '0000', '0005', '11200', '11200', '11200', '11200', '11200', '11200', '11200', '10200', '10700', '10700', '11200', '11300', '11300', '11400', '1', '1', '1', '1', '1', '1', '1', '센트라스', '대림e-편한세상', '서울숲 한신 더 휴', '서울숲푸르지오', '래미안 옥수 리버젠', '옥수파크힐스101동~116동', '서울숲성수현대', '1', '1', '1', '1', '1', '1', '1', '11', '9', '11', '14', '9', '19', '2', '11200-3120', '11200-18', '11200-24', '11200-2820', '11200-2980', '11200-3114', '11200-61', '84.96', '59.96', '114.97', '84.87', '59.25', '59.91', '84.73', '서울 성동구', '서울 성동구', '서울 성동구', '서울 성동구', '서울 성동구', '서울 성동구', '서울 성동구', '1070', '347', '349', '340', '561', '528', '676-5', '11200', '11200', '11200', '11200', '11200', '11200', '11200', '21', '6', '14', '17', '18', '6', '13', '', '', '', '', '', '', '', '', '', '', '', '', '', '']\n"
     ]
    }
   ],
   "source": [
    "# 문서 내 모든 텍스트 값 가져오기\n",
    "all_txt = []\n",
    "\n",
    "for c in range(0,len(cols)):\n",
    "    col = cols[c]\n",
    "    for a in result.select(col):\n",
    "        all_txt.append(a.text.strip())\n",
    "        \n",
    "print(all_txt)"
   ]
  },
  {
   "cell_type": "code",
   "execution_count": 28,
   "id": "398550bc",
   "metadata": {
    "collapsed": true
   },
   "outputs": [
    {
     "name": "stdout",
     "output_type": "stream",
     "text": [
      "[['155,000', '중개거래', '2016', '2023', '왕십리로', '00410', '00000', '11200', '00', '3005011', '하왕십리동', '1070', '0000', '11200', '10200', '1', '센트라스', '1', '11', '11200-3120', '84.96', '서울 성동구', '1070', '11200', '21', '', ''], ['83,000', '중개거래', '2000', '2023', '행당로', '00079', '00000', '11200', '01', '3103006', '행당동', '0347', '0000', '11200', '10700', '1', '대림e-편한세상', '1', '9', '11200-18', '59.96', '서울 성동구', '347', '11200', '6', '', ''], ['129,000', '중개거래', '2003', '2023', '고산자로', '00164', '00000', '11200', '04', '3005030', '행당동', '0349', '0000', '11200', '10700', '1', '서울숲 한신 더 휴', '1', '11', '11200-24', '114.97', '서울 성동구', '349', '11200', '14', '', ''], ['186,000', '중개거래', '2007', '2023', '금호로', '00015', '00000', '11200', '03', '3103001', '금호동4가', '0340', '0000', '11200', '11200', '1', '서울숲푸르지오', '1', '14', '11200-2820', '84.87', '서울 성동구', '340', '11200', '17', '', ''], ['133,000', '중개거래', '2012', '2023', '매봉길', '00015', '00000', '11200', '02', '4109229', '옥수동', '0561', '0000', '11200', '11300', '1', '래미안 옥수 리버젠', '1', '9', '11200-2980', '59.25', '서울 성동구', '561', '11200', '18', '', ''], ['124,000', '중개거래', '2016', '2023', '매봉길', '00050', '00000', '11200', '00', '4109229', '옥수동', '0528', '0000', '11200', '11300', '1', '옥수파크힐스101동~116동', '1', '19', '11200-3114', '59.91', '서울 성동구', '528', '11200', '6', '', ''], ['101,000', '중개거래', '1990', '2023', '서울숲길', '00025', '00000', '11200', '01', '4109323', '성수동1가', '0676', '0005', '11200', '11400', '1', '서울숲성수현대', '1', '2', '11200-61', '84.73', '서울 성동구', '676-5', '11200', '13', '', '']]\n"
     ]
    }
   ],
   "source": [
    "# 개별 거래내역별로 묶기\n",
    "sorted_txt = []\n",
    "\n",
    "for i in range(len(result.items)):\n",
    "    temp = []\n",
    "    a = list(range(i, len(all_txt), len(result.items)))\n",
    "    for j in a:\n",
    "        temp.append(all_txt[j])\n",
    "    sorted_txt.append(temp)\n",
    " \n",
    "print(sorted_txt)"
   ]
  },
  {
   "cell_type": "code",
   "execution_count": 30,
   "id": "3d8536fb",
   "metadata": {},
   "outputs": [
    {
     "data": {
      "text/html": [
       "<div>\n",
       "<style scoped>\n",
       "    .dataframe tbody tr th:only-of-type {\n",
       "        vertical-align: middle;\n",
       "    }\n",
       "\n",
       "    .dataframe tbody tr th {\n",
       "        vertical-align: top;\n",
       "    }\n",
       "\n",
       "    .dataframe thead th {\n",
       "        text-align: right;\n",
       "    }\n",
       "</style>\n",
       "<table border=\"1\" class=\"dataframe\">\n",
       "  <thead>\n",
       "    <tr style=\"text-align: right;\">\n",
       "      <th></th>\n",
       "      <th>거래금액</th>\n",
       "      <th>거래유형</th>\n",
       "      <th>건축년도</th>\n",
       "      <th>년</th>\n",
       "      <th>도로명</th>\n",
       "      <th>도로명건물본번호코드</th>\n",
       "      <th>도로명건물부번호코드</th>\n",
       "      <th>도로명시군구코드</th>\n",
       "      <th>도로명일련번호코드</th>\n",
       "      <th>도로명코드</th>\n",
       "      <th>...</th>\n",
       "      <th>월</th>\n",
       "      <th>일</th>\n",
       "      <th>일련번호</th>\n",
       "      <th>전용면적</th>\n",
       "      <th>중개사소재지</th>\n",
       "      <th>지번</th>\n",
       "      <th>지역코드</th>\n",
       "      <th>층</th>\n",
       "      <th>해제사유발생일</th>\n",
       "      <th>해제여부</th>\n",
       "    </tr>\n",
       "  </thead>\n",
       "  <tbody>\n",
       "    <tr>\n",
       "      <th>0</th>\n",
       "      <td>155,000</td>\n",
       "      <td>중개거래</td>\n",
       "      <td>2016</td>\n",
       "      <td>2023</td>\n",
       "      <td>왕십리로</td>\n",
       "      <td>00410</td>\n",
       "      <td>00000</td>\n",
       "      <td>11200</td>\n",
       "      <td>00</td>\n",
       "      <td>3005011</td>\n",
       "      <td>...</td>\n",
       "      <td>1</td>\n",
       "      <td>11</td>\n",
       "      <td>11200-3120</td>\n",
       "      <td>84.96</td>\n",
       "      <td>서울 성동구</td>\n",
       "      <td>1070</td>\n",
       "      <td>11200</td>\n",
       "      <td>21</td>\n",
       "      <td></td>\n",
       "      <td></td>\n",
       "    </tr>\n",
       "    <tr>\n",
       "      <th>1</th>\n",
       "      <td>83,000</td>\n",
       "      <td>중개거래</td>\n",
       "      <td>2000</td>\n",
       "      <td>2023</td>\n",
       "      <td>행당로</td>\n",
       "      <td>00079</td>\n",
       "      <td>00000</td>\n",
       "      <td>11200</td>\n",
       "      <td>01</td>\n",
       "      <td>3103006</td>\n",
       "      <td>...</td>\n",
       "      <td>1</td>\n",
       "      <td>9</td>\n",
       "      <td>11200-18</td>\n",
       "      <td>59.96</td>\n",
       "      <td>서울 성동구</td>\n",
       "      <td>347</td>\n",
       "      <td>11200</td>\n",
       "      <td>6</td>\n",
       "      <td></td>\n",
       "      <td></td>\n",
       "    </tr>\n",
       "    <tr>\n",
       "      <th>2</th>\n",
       "      <td>129,000</td>\n",
       "      <td>중개거래</td>\n",
       "      <td>2003</td>\n",
       "      <td>2023</td>\n",
       "      <td>고산자로</td>\n",
       "      <td>00164</td>\n",
       "      <td>00000</td>\n",
       "      <td>11200</td>\n",
       "      <td>04</td>\n",
       "      <td>3005030</td>\n",
       "      <td>...</td>\n",
       "      <td>1</td>\n",
       "      <td>11</td>\n",
       "      <td>11200-24</td>\n",
       "      <td>114.97</td>\n",
       "      <td>서울 성동구</td>\n",
       "      <td>349</td>\n",
       "      <td>11200</td>\n",
       "      <td>14</td>\n",
       "      <td></td>\n",
       "      <td></td>\n",
       "    </tr>\n",
       "    <tr>\n",
       "      <th>3</th>\n",
       "      <td>186,000</td>\n",
       "      <td>중개거래</td>\n",
       "      <td>2007</td>\n",
       "      <td>2023</td>\n",
       "      <td>금호로</td>\n",
       "      <td>00015</td>\n",
       "      <td>00000</td>\n",
       "      <td>11200</td>\n",
       "      <td>03</td>\n",
       "      <td>3103001</td>\n",
       "      <td>...</td>\n",
       "      <td>1</td>\n",
       "      <td>14</td>\n",
       "      <td>11200-2820</td>\n",
       "      <td>84.87</td>\n",
       "      <td>서울 성동구</td>\n",
       "      <td>340</td>\n",
       "      <td>11200</td>\n",
       "      <td>17</td>\n",
       "      <td></td>\n",
       "      <td></td>\n",
       "    </tr>\n",
       "    <tr>\n",
       "      <th>4</th>\n",
       "      <td>133,000</td>\n",
       "      <td>중개거래</td>\n",
       "      <td>2012</td>\n",
       "      <td>2023</td>\n",
       "      <td>매봉길</td>\n",
       "      <td>00015</td>\n",
       "      <td>00000</td>\n",
       "      <td>11200</td>\n",
       "      <td>02</td>\n",
       "      <td>4109229</td>\n",
       "      <td>...</td>\n",
       "      <td>1</td>\n",
       "      <td>9</td>\n",
       "      <td>11200-2980</td>\n",
       "      <td>59.25</td>\n",
       "      <td>서울 성동구</td>\n",
       "      <td>561</td>\n",
       "      <td>11200</td>\n",
       "      <td>18</td>\n",
       "      <td></td>\n",
       "      <td></td>\n",
       "    </tr>\n",
       "    <tr>\n",
       "      <th>5</th>\n",
       "      <td>124,000</td>\n",
       "      <td>중개거래</td>\n",
       "      <td>2016</td>\n",
       "      <td>2023</td>\n",
       "      <td>매봉길</td>\n",
       "      <td>00050</td>\n",
       "      <td>00000</td>\n",
       "      <td>11200</td>\n",
       "      <td>00</td>\n",
       "      <td>4109229</td>\n",
       "      <td>...</td>\n",
       "      <td>1</td>\n",
       "      <td>19</td>\n",
       "      <td>11200-3114</td>\n",
       "      <td>59.91</td>\n",
       "      <td>서울 성동구</td>\n",
       "      <td>528</td>\n",
       "      <td>11200</td>\n",
       "      <td>6</td>\n",
       "      <td></td>\n",
       "      <td></td>\n",
       "    </tr>\n",
       "    <tr>\n",
       "      <th>6</th>\n",
       "      <td>101,000</td>\n",
       "      <td>중개거래</td>\n",
       "      <td>1990</td>\n",
       "      <td>2023</td>\n",
       "      <td>서울숲길</td>\n",
       "      <td>00025</td>\n",
       "      <td>00000</td>\n",
       "      <td>11200</td>\n",
       "      <td>01</td>\n",
       "      <td>4109323</td>\n",
       "      <td>...</td>\n",
       "      <td>1</td>\n",
       "      <td>2</td>\n",
       "      <td>11200-61</td>\n",
       "      <td>84.73</td>\n",
       "      <td>서울 성동구</td>\n",
       "      <td>676-5</td>\n",
       "      <td>11200</td>\n",
       "      <td>13</td>\n",
       "      <td></td>\n",
       "      <td></td>\n",
       "    </tr>\n",
       "  </tbody>\n",
       "</table>\n",
       "<p>7 rows × 27 columns</p>\n",
       "</div>"
      ],
      "text/plain": [
       "      거래금액  거래유형  건축년도     년   도로명 도로명건물본번호코드 도로명건물부번호코드 도로명시군구코드 도로명일련번호코드  \\\n",
       "0  155,000  중개거래  2016  2023  왕십리로      00410      00000    11200        00   \n",
       "1   83,000  중개거래  2000  2023   행당로      00079      00000    11200        01   \n",
       "2  129,000  중개거래  2003  2023  고산자로      00164      00000    11200        04   \n",
       "3  186,000  중개거래  2007  2023   금호로      00015      00000    11200        03   \n",
       "4  133,000  중개거래  2012  2023   매봉길      00015      00000    11200        02   \n",
       "5  124,000  중개거래  2016  2023   매봉길      00050      00000    11200        00   \n",
       "6  101,000  중개거래  1990  2023  서울숲길      00025      00000    11200        01   \n",
       "\n",
       "     도로명코드  ...  월   일        일련번호    전용면적  중개사소재지     지번   지역코드   층 해제사유발생일  \\\n",
       "0  3005011  ...  1  11  11200-3120   84.96  서울 성동구   1070  11200  21           \n",
       "1  3103006  ...  1   9    11200-18   59.96  서울 성동구    347  11200   6           \n",
       "2  3005030  ...  1  11    11200-24  114.97  서울 성동구    349  11200  14           \n",
       "3  3103001  ...  1  14  11200-2820   84.87  서울 성동구    340  11200  17           \n",
       "4  4109229  ...  1   9  11200-2980   59.25  서울 성동구    561  11200  18           \n",
       "5  4109229  ...  1  19  11200-3114   59.91  서울 성동구    528  11200   6           \n",
       "6  4109323  ...  1   2    11200-61   84.73  서울 성동구  676-5  11200  13           \n",
       "\n",
       "  해제여부  \n",
       "0       \n",
       "1       \n",
       "2       \n",
       "3       \n",
       "4       \n",
       "5       \n",
       "6       \n",
       "\n",
       "[7 rows x 27 columns]"
      ]
     },
     "metadata": {},
     "output_type": "display_data"
    },
    {
     "data": {
      "text/plain": [
       "(7, 27)"
      ]
     },
     "execution_count": 30,
     "metadata": {},
     "output_type": "execute_result"
    }
   ],
   "source": [
    "# 컬럼과 내용 병합\n",
    "df = pd.DataFrame(sorted_txt, columns = cols)\n",
    "display(df)\n",
    "df.shape"
   ]
  },
  {
   "cell_type": "code",
   "execution_count": 31,
   "id": "168c1a3d",
   "metadata": {},
   "outputs": [],
   "source": [
    "# 컬럼을 편집하고 싶을 경우\n",
    "# edit_cols = ['년','월','일','거래유형','지역코드','도로명', '법정동','지번','아파트','층','건축년도','전용면적','거래금액']\n",
    "# df = df[edit_cols]\n",
    "\n",
    "# 컬럼을 특정 데이터로 정렬하고 싶을 경우\n",
    "# df.sort_values(['층'])"
   ]
  },
  {
   "cell_type": "markdown",
   "id": "6ee1aa28",
   "metadata": {},
   "source": [
    "### 파일 저장"
   ]
  },
  {
   "cell_type": "code",
   "execution_count": null,
   "id": "c23bf124",
   "metadata": {},
   "outputs": [],
   "source": [
    "file_name = 'API_LandCost_' + strftime('%Y-%m-%d-%H-%M') + '.csv'\n",
    "df.to_csv(file_name, index=False)\n",
    "print(file_name)\n",
    "pd.read_csv(file_name)"
   ]
  },
  {
   "cell_type": "code",
   "execution_count": null,
   "id": "c67e3cb6",
   "metadata": {},
   "outputs": [],
   "source": []
  },
  {
   "cell_type": "markdown",
   "id": "d2a3baf1",
   "metadata": {},
   "source": [
    "# 📌심화 - 데이터 분석"
   ]
  },
  {
   "cell_type": "markdown",
   "id": "8cdaa2ec",
   "metadata": {},
   "source": [
    "### 숫자 데이터 형 변환"
   ]
  },
  {
   "cell_type": "code",
   "execution_count": 33,
   "id": "9b31f3a9",
   "metadata": {},
   "outputs": [],
   "source": [
    "# int 타입이어야 하는 컬럼 : 거래금액, 건축년도, 년, 월, 일, 층\n",
    "# float 타입이어야 하는 컬럼 : 전용면적"
   ]
  },
  {
   "cell_type": "code",
   "execution_count": 34,
   "id": "7c89e339",
   "metadata": {},
   "outputs": [],
   "source": [
    "#public data reader 코드 중 컬럼 내 데이터 타입 변환 참고\n",
    "int_cols = ['거래금액', '건축년도', '년', '월', '일', '층']\n",
    "float_cols = ['전용면적']\n",
    "\n",
    "for col in int_cols:\n",
    "    if col in df.columns:\n",
    "        df[col] = pd.to_numeric(df[col].apply(\n",
    "            lambda x: x.strip().replace(\",\", \"\") if x is not None and not pd.isnull(x) else x)).astype(\"Int64\")\n",
    "for col in float_cols:\n",
    "    if col in df.columns:\n",
    "        df[col] = pd.to_numeric(df[col])"
   ]
  },
  {
   "cell_type": "code",
   "execution_count": 36,
   "id": "be5999dc",
   "metadata": {},
   "outputs": [
    {
     "name": "stdout",
     "output_type": "stream",
     "text": [
      "<class 'numpy.int64'>\n",
      "238000\n"
     ]
    }
   ],
   "source": [
    "# 숫자형으로 잘 변환됐는지 확인\n",
    "\n",
    "print(type(df.거래금액[0]))\n",
    "print(df.거래금액[0] + df.거래금액[1])"
   ]
  },
  {
   "cell_type": "markdown",
   "id": "c78f0e30",
   "metadata": {},
   "source": [
    "### 단위 변경(m² > 평)"
   ]
  },
  {
   "cell_type": "code",
   "execution_count": 37,
   "id": "9c71aaa3",
   "metadata": {},
   "outputs": [],
   "source": [
    "pyong = [round(var/ 3.305785, 1) for var in df['전용면적']]\n",
    "df['평형'] = pyong"
   ]
  },
  {
   "cell_type": "code",
   "execution_count": 38,
   "id": "44798e97",
   "metadata": {
    "scrolled": true
   },
   "outputs": [
    {
     "data": {
      "text/html": [
       "<div>\n",
       "<style scoped>\n",
       "    .dataframe tbody tr th:only-of-type {\n",
       "        vertical-align: middle;\n",
       "    }\n",
       "\n",
       "    .dataframe tbody tr th {\n",
       "        vertical-align: top;\n",
       "    }\n",
       "\n",
       "    .dataframe thead th {\n",
       "        text-align: right;\n",
       "    }\n",
       "</style>\n",
       "<table border=\"1\" class=\"dataframe\">\n",
       "  <thead>\n",
       "    <tr style=\"text-align: right;\">\n",
       "      <th></th>\n",
       "      <th>년</th>\n",
       "      <th>월</th>\n",
       "      <th>일</th>\n",
       "      <th>아파트</th>\n",
       "      <th>층</th>\n",
       "      <th>건축년도</th>\n",
       "      <th>전용면적</th>\n",
       "      <th>평형</th>\n",
       "      <th>거래금액</th>\n",
       "    </tr>\n",
       "  </thead>\n",
       "  <tbody>\n",
       "    <tr>\n",
       "      <th>0</th>\n",
       "      <td>2023</td>\n",
       "      <td>1</td>\n",
       "      <td>11</td>\n",
       "      <td>센트라스</td>\n",
       "      <td>21</td>\n",
       "      <td>2016</td>\n",
       "      <td>84.96</td>\n",
       "      <td>25.7</td>\n",
       "      <td>155000</td>\n",
       "    </tr>\n",
       "    <tr>\n",
       "      <th>1</th>\n",
       "      <td>2023</td>\n",
       "      <td>1</td>\n",
       "      <td>9</td>\n",
       "      <td>대림e-편한세상</td>\n",
       "      <td>6</td>\n",
       "      <td>2000</td>\n",
       "      <td>59.96</td>\n",
       "      <td>18.1</td>\n",
       "      <td>83000</td>\n",
       "    </tr>\n",
       "    <tr>\n",
       "      <th>2</th>\n",
       "      <td>2023</td>\n",
       "      <td>1</td>\n",
       "      <td>11</td>\n",
       "      <td>서울숲 한신 더 휴</td>\n",
       "      <td>14</td>\n",
       "      <td>2003</td>\n",
       "      <td>114.97</td>\n",
       "      <td>34.8</td>\n",
       "      <td>129000</td>\n",
       "    </tr>\n",
       "    <tr>\n",
       "      <th>3</th>\n",
       "      <td>2023</td>\n",
       "      <td>1</td>\n",
       "      <td>14</td>\n",
       "      <td>서울숲푸르지오</td>\n",
       "      <td>17</td>\n",
       "      <td>2007</td>\n",
       "      <td>84.87</td>\n",
       "      <td>25.7</td>\n",
       "      <td>186000</td>\n",
       "    </tr>\n",
       "    <tr>\n",
       "      <th>4</th>\n",
       "      <td>2023</td>\n",
       "      <td>1</td>\n",
       "      <td>9</td>\n",
       "      <td>래미안 옥수 리버젠</td>\n",
       "      <td>18</td>\n",
       "      <td>2012</td>\n",
       "      <td>59.25</td>\n",
       "      <td>17.9</td>\n",
       "      <td>133000</td>\n",
       "    </tr>\n",
       "    <tr>\n",
       "      <th>5</th>\n",
       "      <td>2023</td>\n",
       "      <td>1</td>\n",
       "      <td>19</td>\n",
       "      <td>옥수파크힐스101동~116동</td>\n",
       "      <td>6</td>\n",
       "      <td>2016</td>\n",
       "      <td>59.91</td>\n",
       "      <td>18.1</td>\n",
       "      <td>124000</td>\n",
       "    </tr>\n",
       "    <tr>\n",
       "      <th>6</th>\n",
       "      <td>2023</td>\n",
       "      <td>1</td>\n",
       "      <td>2</td>\n",
       "      <td>서울숲성수현대</td>\n",
       "      <td>13</td>\n",
       "      <td>1990</td>\n",
       "      <td>84.73</td>\n",
       "      <td>25.6</td>\n",
       "      <td>101000</td>\n",
       "    </tr>\n",
       "  </tbody>\n",
       "</table>\n",
       "</div>"
      ],
      "text/plain": [
       "      년  월   일              아파트   층  건축년도    전용면적    평형    거래금액\n",
       "0  2023  1  11             센트라스  21  2016   84.96  25.7  155000\n",
       "1  2023  1   9         대림e-편한세상   6  2000   59.96  18.1   83000\n",
       "2  2023  1  11       서울숲 한신 더 휴  14  2003  114.97  34.8  129000\n",
       "3  2023  1  14          서울숲푸르지오  17  2007   84.87  25.7  186000\n",
       "4  2023  1   9       래미안 옥수 리버젠  18  2012   59.25  17.9  133000\n",
       "5  2023  1  19  옥수파크힐스101동~116동   6  2016   59.91  18.1  124000\n",
       "6  2023  1   2          서울숲성수현대  13  1990   84.73  25.6  101000"
      ]
     },
     "execution_count": 38,
     "metadata": {},
     "output_type": "execute_result"
    }
   ],
   "source": [
    "df[['년', '월', '일', '아파트', '층', '건축년도', '전용면적', '평형', '거래금액']]"
   ]
  },
  {
   "cell_type": "markdown",
   "id": "caaae93d",
   "metadata": {},
   "source": [
    "### 평당 가격 계산"
   ]
  },
  {
   "cell_type": "code",
   "execution_count": 40,
   "id": "210f0bf0",
   "metadata": {},
   "outputs": [],
   "source": [
    "cost_per_pyong = round(df['거래금액'] / df['평형'])\n",
    "df['평당금액'] = cost_per_pyong"
   ]
  },
  {
   "cell_type": "code",
   "execution_count": 41,
   "id": "e9fcdb15",
   "metadata": {},
   "outputs": [
    {
     "data": {
      "text/html": [
       "<div>\n",
       "<style scoped>\n",
       "    .dataframe tbody tr th:only-of-type {\n",
       "        vertical-align: middle;\n",
       "    }\n",
       "\n",
       "    .dataframe tbody tr th {\n",
       "        vertical-align: top;\n",
       "    }\n",
       "\n",
       "    .dataframe thead th {\n",
       "        text-align: right;\n",
       "    }\n",
       "</style>\n",
       "<table border=\"1\" class=\"dataframe\">\n",
       "  <thead>\n",
       "    <tr style=\"text-align: right;\">\n",
       "      <th></th>\n",
       "      <th>년</th>\n",
       "      <th>월</th>\n",
       "      <th>일</th>\n",
       "      <th>아파트</th>\n",
       "      <th>층</th>\n",
       "      <th>건축년도</th>\n",
       "      <th>전용면적</th>\n",
       "      <th>평형</th>\n",
       "      <th>거래금액</th>\n",
       "      <th>평당금액</th>\n",
       "    </tr>\n",
       "  </thead>\n",
       "  <tbody>\n",
       "    <tr>\n",
       "      <th>0</th>\n",
       "      <td>2023</td>\n",
       "      <td>1</td>\n",
       "      <td>11</td>\n",
       "      <td>센트라스</td>\n",
       "      <td>21</td>\n",
       "      <td>2016</td>\n",
       "      <td>84.96</td>\n",
       "      <td>25.7</td>\n",
       "      <td>155000</td>\n",
       "      <td>6031.0</td>\n",
       "    </tr>\n",
       "    <tr>\n",
       "      <th>1</th>\n",
       "      <td>2023</td>\n",
       "      <td>1</td>\n",
       "      <td>9</td>\n",
       "      <td>대림e-편한세상</td>\n",
       "      <td>6</td>\n",
       "      <td>2000</td>\n",
       "      <td>59.96</td>\n",
       "      <td>18.1</td>\n",
       "      <td>83000</td>\n",
       "      <td>4586.0</td>\n",
       "    </tr>\n",
       "    <tr>\n",
       "      <th>2</th>\n",
       "      <td>2023</td>\n",
       "      <td>1</td>\n",
       "      <td>11</td>\n",
       "      <td>서울숲 한신 더 휴</td>\n",
       "      <td>14</td>\n",
       "      <td>2003</td>\n",
       "      <td>114.97</td>\n",
       "      <td>34.8</td>\n",
       "      <td>129000</td>\n",
       "      <td>3707.0</td>\n",
       "    </tr>\n",
       "    <tr>\n",
       "      <th>3</th>\n",
       "      <td>2023</td>\n",
       "      <td>1</td>\n",
       "      <td>14</td>\n",
       "      <td>서울숲푸르지오</td>\n",
       "      <td>17</td>\n",
       "      <td>2007</td>\n",
       "      <td>84.87</td>\n",
       "      <td>25.7</td>\n",
       "      <td>186000</td>\n",
       "      <td>7237.0</td>\n",
       "    </tr>\n",
       "    <tr>\n",
       "      <th>4</th>\n",
       "      <td>2023</td>\n",
       "      <td>1</td>\n",
       "      <td>9</td>\n",
       "      <td>래미안 옥수 리버젠</td>\n",
       "      <td>18</td>\n",
       "      <td>2012</td>\n",
       "      <td>59.25</td>\n",
       "      <td>17.9</td>\n",
       "      <td>133000</td>\n",
       "      <td>7430.0</td>\n",
       "    </tr>\n",
       "    <tr>\n",
       "      <th>5</th>\n",
       "      <td>2023</td>\n",
       "      <td>1</td>\n",
       "      <td>19</td>\n",
       "      <td>옥수파크힐스101동~116동</td>\n",
       "      <td>6</td>\n",
       "      <td>2016</td>\n",
       "      <td>59.91</td>\n",
       "      <td>18.1</td>\n",
       "      <td>124000</td>\n",
       "      <td>6851.0</td>\n",
       "    </tr>\n",
       "    <tr>\n",
       "      <th>6</th>\n",
       "      <td>2023</td>\n",
       "      <td>1</td>\n",
       "      <td>2</td>\n",
       "      <td>서울숲성수현대</td>\n",
       "      <td>13</td>\n",
       "      <td>1990</td>\n",
       "      <td>84.73</td>\n",
       "      <td>25.6</td>\n",
       "      <td>101000</td>\n",
       "      <td>3945.0</td>\n",
       "    </tr>\n",
       "  </tbody>\n",
       "</table>\n",
       "</div>"
      ],
      "text/plain": [
       "      년  월   일              아파트   층  건축년도    전용면적    평형    거래금액    평당금액\n",
       "0  2023  1  11             센트라스  21  2016   84.96  25.7  155000  6031.0\n",
       "1  2023  1   9         대림e-편한세상   6  2000   59.96  18.1   83000  4586.0\n",
       "2  2023  1  11       서울숲 한신 더 휴  14  2003  114.97  34.8  129000  3707.0\n",
       "3  2023  1  14          서울숲푸르지오  17  2007   84.87  25.7  186000  7237.0\n",
       "4  2023  1   9       래미안 옥수 리버젠  18  2012   59.25  17.9  133000  7430.0\n",
       "5  2023  1  19  옥수파크힐스101동~116동   6  2016   59.91  18.1  124000  6851.0\n",
       "6  2023  1   2          서울숲성수현대  13  1990   84.73  25.6  101000  3945.0"
      ]
     },
     "execution_count": 41,
     "metadata": {},
     "output_type": "execute_result"
    }
   ],
   "source": [
    "df[['년', '월', '일', '아파트', '층', '건축년도', '전용면적', '평형', '거래금액', '평당금액']]"
   ]
  },
  {
   "cell_type": "code",
   "execution_count": null,
   "id": "c5aa051e",
   "metadata": {},
   "outputs": [],
   "source": []
  },
  {
   "cell_type": "markdown",
   "id": "f937863b",
   "metadata": {},
   "source": [
    "### (참고) XML 파일 처리\n",
    "https://codealone.tistory.com/77"
   ]
  },
  {
   "cell_type": "code",
   "execution_count": 56,
   "id": "7943edb4",
   "metadata": {
    "scrolled": false
   },
   "outputs": [],
   "source": [
    "tree = ET.fromstring(response.content)\n",
    "# ET.dump(tree) # .dump : xml 요소의 내용 출력 (response.text와 형태 비슷)\n",
    "ET.indent(tree, space = ' ') # 들여쓰기 처리(가독성)\n",
    "ET.dump(tree)"
   ]
  },
  {
   "cell_type": "code",
   "execution_count": 53,
   "id": "8976603d",
   "metadata": {
    "scrolled": true
   },
   "outputs": [],
   "source": [
    "# 파일 내 태그트리 구성형태대로 리스트화 되어 있음\n",
    "# response[header[resultCode, resultMsg],body[items[item, item …], …]\n",
    "\n",
    "items = tree[1][0] # body 태그 안의 items의 위치\n",
    "\n",
    "# 컬럼과 내용 저장\n",
    "columns = [i.tag for i in items[1]]\n",
    "items_list = [[i.text for i in item] for item in items]"
   ]
  },
  {
   "cell_type": "code",
   "execution_count": 54,
   "id": "36e4bd3d",
   "metadata": {},
   "outputs": [],
   "source": [
    "df = pd.DataFrame(items_list, columns = columns)"
   ]
  }
 ],
 "metadata": {
  "kernelspec": {
   "display_name": "Python 3 (ipykernel)",
   "language": "python",
   "name": "python3"
  },
  "language_info": {
   "codemirror_mode": {
    "name": "ipython",
    "version": 3
   },
   "file_extension": ".py",
   "mimetype": "text/x-python",
   "name": "python",
   "nbconvert_exporter": "python",
   "pygments_lexer": "ipython3",
   "version": "3.9.13"
  }
 },
 "nbformat": 4,
 "nbformat_minor": 5
}
